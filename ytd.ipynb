{
 "cells": [
  {
   "cell_type": "code",
   "execution_count": 11,
   "metadata": {},
   "outputs": [
    {
     "name": "stdout",
     "output_type": "stream",
     "text": [
      "downloading=Aur Ahista Kijiye Baatein - Pankaj Udhasflv\n",
      "processing Aur Ahista Kijiye Baatein - Pankaj Udhasflv.mp4\n"
     ]
    }
   ],
   "source": [
    "from pytube import YouTube\n",
    "import os,subprocess\n",
    "\n",
    "f =open(\"list.txt\",\"r+\")\n",
    "for l in f:\n",
    "    yt = YouTube(l)\n",
    "    video = yt.filter('mp4')[-1]\n",
    "    video.download('/Users/jithusjacob/Projects/Youtubetomp3/Videos')\n",
    "    print(\"downloading=\" +yt.filename )\n",
    "f.close()\n",
    "\n",
    "files = os.listdir(\"Videos/\")\n",
    "for f in files:\n",
    "    if f.lower()[-3:] == \"mp4\":\n",
    "        print (\"processing\", f)\n",
    "       \n",
    "        inFile = f\n",
    "        outFile = f[:-3] + \"mp3\"\n",
    "        cmds = ['ffmpeg', '-i', \"Videos/{}\".format(inFile),\"Audio/{}\".format(outFile)]\n",
    "        subprocess.call(cmds)\n",
    "        cmds1 =['rm',\"Videos/{}\".format(inFile)]\n",
    "        subprocess.call(cmds1)\n",
    "\n"
   ]
  }
 ],
 "metadata": {
  "kernelspec": {
   "display_name": "Python (env1)",
   "language": "python",
   "name": "env1"
  },
  "language_info": {
   "codemirror_mode": {
    "name": "ipython",
    "version": 3
   },
   "file_extension": ".py",
   "mimetype": "text/x-python",
   "name": "python",
   "nbconvert_exporter": "python",
   "pygments_lexer": "ipython3",
   "version": "3.6.2"
  }
 },
 "nbformat": 4,
 "nbformat_minor": 2
}
